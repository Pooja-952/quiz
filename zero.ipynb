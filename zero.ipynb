{
 "cells": [
  {
   "cell_type": "code",
   "execution_count": null,
   "id": "e3a30102-ff99-460f-a3fc-db8b159cdb95",
   "metadata": {},
   "outputs": [],
   "source": [
    "def moveZeroes(nums):\n",
    "    nonZeroPtr = 0\n",
    "    currentPtr = 0\n",
    "    while currentPtr < len(nums):\n",
    "        if nums[currentPtr] != 0:\n",
    "            nums[nonZeroPtr], nums[currentPtr] = nums[currentPtr], nums[nonZeroPtr]\n",
    "            nonZeroPtr += 1\n",
    "            currentPtr += 1\n",
    "            "
   ]
  },
  {
   "cell_type": "code",
   "execution_count": null,
   "id": "21744c61-5910-4e9b-a4f8-57161591e4dd",
   "metadata": {},
   "outputs": [],
   "source": [
    "nums=[1,5,0,8,0]\n",
    "result= moveZeroes(nums)\n",
    "print(result)"
   ]
  },
  {
   "cell_type": "code",
   "execution_count": null,
   "id": "9ef1fc76-852e-41c3-8c74-c2d55d5e97c2",
   "metadata": {},
   "outputs": [],
   "source": []
  }
 ],
 "metadata": {
  "kernelspec": {
   "display_name": "Python 3 (ipykernel)",
   "language": "python",
   "name": "python3"
  },
  "language_info": {
   "codemirror_mode": {
    "name": "ipython",
    "version": 3
   },
   "file_extension": ".py",
   "mimetype": "text/x-python",
   "name": "python",
   "nbconvert_exporter": "python",
   "pygments_lexer": "ipython3",
   "version": "3.10.6"
  }
 },
 "nbformat": 4,
 "nbformat_minor": 5
}
