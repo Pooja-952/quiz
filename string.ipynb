{
 "cells": [
  {
   "cell_type": "markdown",
   "id": "ac2bb9bc-b85d-4f46-baa6-31acb59a6ab5",
   "metadata": {},
   "source": [
    "## Q. Given a string s, find the first non-repeating character in it and return its index. If it does not exist, return -1."
   ]
  },
  {
   "cell_type": "code",
   "execution_count": 2,
   "id": "a99601da-9dc8-4afa-9335-b8a42c8cb6d8",
   "metadata": {},
   "outputs": [],
   "source": [
    "def nonRepeatingCharacter(s):\n",
    "    char_count = {}\n",
    "    \n",
    "    for ch in s:\n",
    "        if ch not in char_count:\n",
    "            char_count[ch] = 1\n",
    "        else:\n",
    "            char_count[ch] += 1\n",
    "            \n",
    "    for i, ch in enumerate(s):\n",
    "        if char_count[ch] == 1:\n",
    "            return i\n",
    "     \n",
    "    return -1\n",
    "            "
   ]
  },
  {
   "cell_type": "code",
   "execution_count": 3,
   "id": "3abcee56-947d-4374-94e4-9824378f3235",
   "metadata": {},
   "outputs": [
    {
     "name": "stdout",
     "output_type": "stream",
     "text": [
      "0\n"
     ]
    }
   ],
   "source": [
    "s = \"leetcode\"\n",
    "count = nonRepeatingCharacter(s)\n",
    "print(count)"
   ]
  },
  {
   "cell_type": "code",
   "execution_count": 4,
   "id": "0b0a67b9-6f3e-4442-a000-6989fb8ab653",
   "metadata": {},
   "outputs": [
    {
     "name": "stdout",
     "output_type": "stream",
     "text": [
      "2\n"
     ]
    }
   ],
   "source": [
    "s = \"loveleetcode\"\n",
    "count = nonRepeatingCharacter(s)\n",
    "print(count)"
   ]
  },
  {
   "cell_type": "code",
   "execution_count": null,
   "id": "2a5b791a-68bb-43ad-a93a-c6701b3f064a",
   "metadata": {},
   "outputs": [],
   "source": []
  }
 ],
 "metadata": {
  "kernelspec": {
   "display_name": "Python 3 (ipykernel)",
   "language": "python",
   "name": "python3"
  },
  "language_info": {
   "codemirror_mode": {
    "name": "ipython",
    "version": 3
   },
   "file_extension": ".py",
   "mimetype": "text/x-python",
   "name": "python",
   "nbconvert_exporter": "python",
   "pygments_lexer": "ipython3",
   "version": "3.10.6"
  }
 },
 "nbformat": 4,
 "nbformat_minor": 5
}
